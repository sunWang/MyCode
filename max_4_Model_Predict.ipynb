{
 "cells": [
  {
   "cell_type": "markdown",
   "metadata": {},
   "source": [
    "# 模型<br>\n",
    "\n",
    "\n",
    "    \n",
    "### 选变量:\n",
    "    - "
   ]
  },
  {
   "cell_type": "markdown",
   "metadata": {},
   "source": [
    "## 需要以下库:\n",
    "    - pandas\n",
    "    - numpy\n",
    "    - sklearn\n",
    "    - pickle"
   ]
  },
  {
   "cell_type": "code",
   "execution_count": 61,
   "metadata": {},
   "outputs": [],
   "source": [
    "import pandas as pd\n",
    "import numpy as np\n",
    "from sklearn.preprocessing import StandardScaler\n",
    "from sklearn.linear_model import LinearRegression\n",
    "from sklearn.pipeline import Pipeline\n",
    "from sklearn.metrics import mean_squared_error\n",
    "import pickle\n",
    "from sklearn.linear_model import LinearRegression\n",
    "from sklearn import svm\n",
    "from sklearn.ensemble import RandomForestRegressor\n",
    "\n",
    "from sklearn.ensemble import GradientBoostingRegressor\n",
    "\n",
    "from sklearn.tree import DecisionTreeRegressor\n",
    "from sklearn.neighbors import KNeighborsRegressor"
   ]
  },
  {
   "cell_type": "markdown",
   "metadata": {},
   "source": [
    "## 读取文件"
   ]
  },
  {
   "cell_type": "markdown",
   "metadata": {},
   "source": [
    "**path_of_file**: 它是包含要预测的数据的文件所在的路径。<br>\n",
    "\n",
    "**name_variable_y**: 测试发送的文件中响应变量的名称是“y”"
   ]
  },
  {
   "cell_type": "code",
   "execution_count": 62,
   "metadata": {},
   "outputs": [],
   "source": [
    "path_of_file = 'max_data/datanew_test.csv'\n",
    "name_variable_y = 'PriceEconomy'\n",
    "\n",
    "test = pd.read_csv(path_of_file, sep = ',', na_filter = False)\n",
    "\n",
    "\n",
    "X_test = test.drop(columns = [name_variable_y]).copy()\n",
    "y_test = test[[name_variable_y]].copy()"
   ]
  },
  {
   "cell_type": "markdown",
   "metadata": {},
   "source": [
    "## 加载模型"
   ]
  },
  {
   "cell_type": "code",
   "execution_count": 63,
   "metadata": {},
   "outputs": [],
   "source": [
    "path_model = 'modeleconomy2.sav'"
   ]
  },
  {
   "cell_type": "code",
   "execution_count": 64,
   "metadata": {},
   "outputs": [],
   "source": [
    "model = pickle.load(open(path_model, 'rb'))"
   ]
  },
  {
   "cell_type": "markdown",
   "metadata": {},
   "source": [
    "## 评价功能"
   ]
  },
  {
   "cell_type": "code",
   "execution_count": 65,
   "metadata": {},
   "outputs": [],
   "source": [
    "def evaluate_model(model,X,y):\n",
    "    variablesSelected = model['cols_order']\n",
    "    X_eval = X[variablesSelected].copy()\n",
    "    y_pred = model['bestModel'].predict(X_eval)\n",
    "#     print(\"best model:\",model['bestModel'])\n",
    "\n",
    "    y_pred = pd.DataFrame(y_pred, index=y_test.index, columns=[\"y_pred\"])\n",
    "\n",
    "    total = y_pred.join(y_test)\n",
    "    total['y_menor_-1'] = (total['PriceEconomy']<-1).astype(int)\n",
    "    total['y_pred_menor_-1'] = (total['y_pred']<-1).astype(int)\n",
    "    total['good_class'] = (total['y_menor_-1']==total['y_pred_menor_-1']).astype(int)\n",
    "    mse = mean_squared_error(y, y_pred)\n",
    "    accuray =total['good_class'].sum()/len(total)\n",
    "    print(f'数据的二次平均误差为: {mse}')\n",
    "    print(f'数据的准确性是: {accuray:5.2f}')\n",
    "\n",
    "    return y_pred,mse,accuray"
   ]
  },
  {
   "cell_type": "markdown",
   "metadata": {},
   "source": [
    "## 结果"
   ]
  },
  {
   "cell_type": "code",
   "execution_count": 66,
   "metadata": {},
   "outputs": [
    {
     "name": "stdout",
     "output_type": "stream",
     "text": [
      "数据的二次平均误差为: 0.0027314643752163483\n",
      "数据的准确性是:  1.00\n"
     ]
    }
   ],
   "source": [
    "y_pred,mse,accuracy = evaluate_model(model,X_test,y_test)"
   ]
  },
  {
   "cell_type": "code",
   "execution_count": null,
   "metadata": {},
   "outputs": [],
   "source": []
  },
  {
   "cell_type": "code",
   "execution_count": null,
   "metadata": {},
   "outputs": [],
   "source": []
  }
 ],
 "metadata": {
  "kernelspec": {
   "display_name": "Python 3",
   "language": "python",
   "name": "python3"
  },
  "language_info": {
   "codemirror_mode": {
    "name": "ipython",
    "version": 3
   },
   "file_extension": ".py",
   "mimetype": "text/x-python",
   "name": "python",
   "nbconvert_exporter": "python",
   "pygments_lexer": "ipython3",
   "version": "3.6.5"
  }
 },
 "nbformat": 4,
 "nbformat_minor": 2
}
